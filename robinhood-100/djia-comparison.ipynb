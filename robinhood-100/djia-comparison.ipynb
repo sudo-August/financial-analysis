{
 "metadata": {
  "language_info": {
   "codemirror_mode": {
    "name": "ipython",
    "version": 3
   },
   "file_extension": ".py",
   "mimetype": "text/x-python",
   "name": "python",
   "nbconvert_exporter": "python",
   "pygments_lexer": "ipython3",
   "version": "3.8.5-final"
  },
  "orig_nbformat": 2,
  "kernelspec": {
   "name": "python_defaultSpec_1601209790022",
   "display_name": "Python 3.8.5 64-bit ('data': conda)"
  }
 },
 "nbformat": 4,
 "nbformat_minor": 2,
 "cells": [
  {
   "cell_type": "code",
   "execution_count": 73,
   "metadata": {},
   "outputs": [],
   "source": [
    "import pandas as pd\n",
    "import csv, requests, io, json\n",
    "from pathlib import Path\n",
    "from datetime import datetime\n",
    "from keys import POLYGON_ID, POLYGON_KEY, IEX_SECRET, IEX_PUBLISHABLE\n",
    "%matplotlib inline\n",
    "\n"
   ]
  },
  {
   "cell_type": "code",
   "execution_count": 74,
   "metadata": {},
   "outputs": [],
   "source": [
    "top_100_path = Path('./data/robinhood-top-100-09262020.csv')\n",
    "djia_path = Path('./data/djia.csv')"
   ]
  },
  {
   "cell_type": "code",
   "execution_count": 75,
   "metadata": {},
   "outputs": [],
   "source": [
    "def get_date():\n",
    "    return {\n",
    "        'year' : datetime.now().year,\n",
    "        'month' : datetime.now().month,\n",
    "        'day' : datetime.now().day,\n",
    "        'hour' : datetime.now().hour,\n",
    "        'minute' : datetime.now().minute\n",
    "    }\n",
    "date = get_date()"
   ]
  },
  {
   "cell_type": "code",
   "execution_count": 76,
   "metadata": {
    "tags": []
   },
   "outputs": [],
   "source": [
    "top_100 = {}\n",
    "with open(top_100_path, 'r') as top_100_file:\n",
    "    top_100_raw = csv.reader(top_100_file)\n",
    "    next(top_100_raw)\n",
    "    for line in top_100_raw:\n",
    "        top_100[line[0]] = line[1]"
   ]
  },
  {
   "source": [
    "# Data Mining\n",
    "The block below is the code block for gathering the past years data on the top_100"
   ],
   "cell_type": "markdown",
   "metadata": {}
  },
  {
   "source": [
    "## Alpaca.markets\n",
    "This is the codeblock for data mining from the alpaca.markets API"
   ],
   "cell_type": "markdown",
   "metadata": {}
  },
  {
   "cell_type": "code",
   "execution_count": 146,
   "metadata": {
    "tags": []
   },
   "outputs": [
    {
     "output_type": "error",
     "ename": "KeyError",
     "evalue": "'date'",
     "traceback": [
      "\u001b[1;31m---------------------------------------------------------------------------\u001b[0m",
      "\u001b[1;31mKeyError\u001b[0m                                  Traceback (most recent call last)",
      "\u001b[1;32m~\\anaconda3\\envs\\data\\lib\\site-packages\\pandas\\core\\indexes\\base.py\u001b[0m in \u001b[0;36mget_loc\u001b[1;34m(self, key, method, tolerance)\u001b[0m\n\u001b[0;32m   2888\u001b[0m             \u001b[1;32mtry\u001b[0m\u001b[1;33m:\u001b[0m\u001b[1;33m\u001b[0m\u001b[1;33m\u001b[0m\u001b[0m\n\u001b[1;32m-> 2889\u001b[1;33m                 \u001b[1;32mreturn\u001b[0m \u001b[0mself\u001b[0m\u001b[1;33m.\u001b[0m\u001b[0m_engine\u001b[0m\u001b[1;33m.\u001b[0m\u001b[0mget_loc\u001b[0m\u001b[1;33m(\u001b[0m\u001b[0mcasted_key\u001b[0m\u001b[1;33m)\u001b[0m\u001b[1;33m\u001b[0m\u001b[1;33m\u001b[0m\u001b[0m\n\u001b[0m\u001b[0;32m   2890\u001b[0m             \u001b[1;32mexcept\u001b[0m \u001b[0mKeyError\u001b[0m \u001b[1;32mas\u001b[0m \u001b[0merr\u001b[0m\u001b[1;33m:\u001b[0m\u001b[1;33m\u001b[0m\u001b[1;33m\u001b[0m\u001b[0m\n",
      "\u001b[1;32mpandas\\_libs\\index.pyx\u001b[0m in \u001b[0;36mpandas._libs.index.IndexEngine.get_loc\u001b[1;34m()\u001b[0m\n",
      "\u001b[1;32mpandas\\_libs\\index.pyx\u001b[0m in \u001b[0;36mpandas._libs.index.IndexEngine.get_loc\u001b[1;34m()\u001b[0m\n",
      "\u001b[1;32mpandas\\_libs\\hashtable_class_helper.pxi\u001b[0m in \u001b[0;36mpandas._libs.hashtable.PyObjectHashTable.get_item\u001b[1;34m()\u001b[0m\n",
      "\u001b[1;32mpandas\\_libs\\hashtable_class_helper.pxi\u001b[0m in \u001b[0;36mpandas._libs.hashtable.PyObjectHashTable.get_item\u001b[1;34m()\u001b[0m\n",
      "\u001b[1;31mKeyError\u001b[0m: 'date'",
      "\nThe above exception was the direct cause of the following exception:\n",
      "\u001b[1;31mKeyError\u001b[0m                                  Traceback (most recent call last)",
      "\u001b[1;32m<ipython-input-146-d22c5d13b50f>\u001b[0m in \u001b[0;36m<module>\u001b[1;34m\u001b[0m\n\u001b[0;32m     22\u001b[0m         \u001b[1;34m'v'\u001b[0m \u001b[1;33m:\u001b[0m \u001b[1;34m'volume'\u001b[0m\u001b[1;33m\u001b[0m\u001b[1;33m\u001b[0m\u001b[0m\n\u001b[0;32m     23\u001b[0m     })\n\u001b[1;32m---> 24\u001b[1;33m     \u001b[0mtckr_df\u001b[0m\u001b[1;33m[\u001b[0m\u001b[1;34m'date'\u001b[0m\u001b[1;33m]\u001b[0m \u001b[1;33m=\u001b[0m \u001b[0mpd\u001b[0m\u001b[1;33m.\u001b[0m\u001b[0mto_datetime\u001b[0m\u001b[1;33m(\u001b[0m\u001b[0mtckr_df\u001b[0m\u001b[1;33m[\u001b[0m\u001b[1;34m'date'\u001b[0m\u001b[1;33m]\u001b[0m\u001b[1;33m,\u001b[0m \u001b[0morigin\u001b[0m\u001b[1;33m=\u001b[0m\u001b[1;34m'unix'\u001b[0m\u001b[1;33m,\u001b[0m \u001b[0munit\u001b[0m\u001b[1;33m=\u001b[0m\u001b[1;34m's'\u001b[0m\u001b[1;33m)\u001b[0m\u001b[1;33m\u001b[0m\u001b[1;33m\u001b[0m\u001b[0m\n\u001b[0m\u001b[0;32m     25\u001b[0m     \u001b[0mtckr_df\u001b[0m\u001b[1;33m.\u001b[0m\u001b[0mset_index\u001b[0m\u001b[1;33m(\u001b[0m\u001b[0mtckr_df\u001b[0m\u001b[1;33m[\u001b[0m\u001b[1;34m'date'\u001b[0m\u001b[1;33m]\u001b[0m\u001b[1;33m,\u001b[0m \u001b[0minplace\u001b[0m\u001b[1;33m=\u001b[0m\u001b[1;32mTrue\u001b[0m\u001b[1;33m)\u001b[0m\u001b[1;33m\u001b[0m\u001b[1;33m\u001b[0m\u001b[0m\n\u001b[0;32m     26\u001b[0m     \u001b[0mtckr_df\u001b[0m \u001b[1;33m=\u001b[0m \u001b[0mtckr_df\u001b[0m\u001b[1;33m.\u001b[0m\u001b[0mdrop\u001b[0m\u001b[1;33m(\u001b[0m\u001b[1;34m'date'\u001b[0m\u001b[1;33m,\u001b[0m \u001b[1;36m1\u001b[0m\u001b[1;33m)\u001b[0m\u001b[1;33m\u001b[0m\u001b[1;33m\u001b[0m\u001b[0m\n",
      "\u001b[1;32m~\\anaconda3\\envs\\data\\lib\\site-packages\\pandas\\core\\frame.py\u001b[0m in \u001b[0;36m__getitem__\u001b[1;34m(self, key)\u001b[0m\n\u001b[0;32m   2900\u001b[0m             \u001b[1;32mif\u001b[0m \u001b[0mself\u001b[0m\u001b[1;33m.\u001b[0m\u001b[0mcolumns\u001b[0m\u001b[1;33m.\u001b[0m\u001b[0mnlevels\u001b[0m \u001b[1;33m>\u001b[0m \u001b[1;36m1\u001b[0m\u001b[1;33m:\u001b[0m\u001b[1;33m\u001b[0m\u001b[1;33m\u001b[0m\u001b[0m\n\u001b[0;32m   2901\u001b[0m                 \u001b[1;32mreturn\u001b[0m \u001b[0mself\u001b[0m\u001b[1;33m.\u001b[0m\u001b[0m_getitem_multilevel\u001b[0m\u001b[1;33m(\u001b[0m\u001b[0mkey\u001b[0m\u001b[1;33m)\u001b[0m\u001b[1;33m\u001b[0m\u001b[1;33m\u001b[0m\u001b[0m\n\u001b[1;32m-> 2902\u001b[1;33m             \u001b[0mindexer\u001b[0m \u001b[1;33m=\u001b[0m \u001b[0mself\u001b[0m\u001b[1;33m.\u001b[0m\u001b[0mcolumns\u001b[0m\u001b[1;33m.\u001b[0m\u001b[0mget_loc\u001b[0m\u001b[1;33m(\u001b[0m\u001b[0mkey\u001b[0m\u001b[1;33m)\u001b[0m\u001b[1;33m\u001b[0m\u001b[1;33m\u001b[0m\u001b[0m\n\u001b[0m\u001b[0;32m   2903\u001b[0m             \u001b[1;32mif\u001b[0m \u001b[0mis_integer\u001b[0m\u001b[1;33m(\u001b[0m\u001b[0mindexer\u001b[0m\u001b[1;33m)\u001b[0m\u001b[1;33m:\u001b[0m\u001b[1;33m\u001b[0m\u001b[1;33m\u001b[0m\u001b[0m\n\u001b[0;32m   2904\u001b[0m                 \u001b[0mindexer\u001b[0m \u001b[1;33m=\u001b[0m \u001b[1;33m[\u001b[0m\u001b[0mindexer\u001b[0m\u001b[1;33m]\u001b[0m\u001b[1;33m\u001b[0m\u001b[1;33m\u001b[0m\u001b[0m\n",
      "\u001b[1;32m~\\anaconda3\\envs\\data\\lib\\site-packages\\pandas\\core\\indexes\\base.py\u001b[0m in \u001b[0;36mget_loc\u001b[1;34m(self, key, method, tolerance)\u001b[0m\n\u001b[0;32m   2889\u001b[0m                 \u001b[1;32mreturn\u001b[0m \u001b[0mself\u001b[0m\u001b[1;33m.\u001b[0m\u001b[0m_engine\u001b[0m\u001b[1;33m.\u001b[0m\u001b[0mget_loc\u001b[0m\u001b[1;33m(\u001b[0m\u001b[0mcasted_key\u001b[0m\u001b[1;33m)\u001b[0m\u001b[1;33m\u001b[0m\u001b[1;33m\u001b[0m\u001b[0m\n\u001b[0;32m   2890\u001b[0m             \u001b[1;32mexcept\u001b[0m \u001b[0mKeyError\u001b[0m \u001b[1;32mas\u001b[0m \u001b[0merr\u001b[0m\u001b[1;33m:\u001b[0m\u001b[1;33m\u001b[0m\u001b[1;33m\u001b[0m\u001b[0m\n\u001b[1;32m-> 2891\u001b[1;33m                 \u001b[1;32mraise\u001b[0m \u001b[0mKeyError\u001b[0m\u001b[1;33m(\u001b[0m\u001b[0mkey\u001b[0m\u001b[1;33m)\u001b[0m \u001b[1;32mfrom\u001b[0m \u001b[0merr\u001b[0m\u001b[1;33m\u001b[0m\u001b[1;33m\u001b[0m\u001b[0m\n\u001b[0m\u001b[0;32m   2892\u001b[0m \u001b[1;33m\u001b[0m\u001b[0m\n\u001b[0;32m   2893\u001b[0m         \u001b[1;32mif\u001b[0m \u001b[0mtolerance\u001b[0m \u001b[1;32mis\u001b[0m \u001b[1;32mnot\u001b[0m \u001b[1;32mNone\u001b[0m\u001b[1;33m:\u001b[0m\u001b[1;33m\u001b[0m\u001b[1;33m\u001b[0m\u001b[0m\n",
      "\u001b[1;31mKeyError\u001b[0m: 'date'"
     ]
    }
   ],
   "source": [
    "for key in top_100:\n",
    "    csv_path = Path(f'./data/get_top_100/{top_100[key]}.csv')\n",
    "    aapl_data_response = requests.get(\n",
    "        'https://data.alpaca.markets/v1/bars/1D', \n",
    "        params={\n",
    "            'symbols': top_100[key],\n",
    "            'start' : f\"{date['year']-1}-0{date['month']}-{date['day']}T09:30:00-04:00\"\n",
    "        },\n",
    "        headers={\n",
    "            'APCA-API-KEY-ID': POLYGON_ID,\n",
    "            'APCA-API-SECRET-KEY': POLYGON_KEY\n",
    "        }\n",
    "    )\n",
    "    aapl_data_json = aapl_data_response.json()\n",
    "    tckr_df = pd.DataFrame.from_records(aapl_data_json[top_100[key]])\n",
    "    tckr_df = tckr_df.rename(columns={\n",
    "        't' : 'date',\n",
    "        'o' : 'open',\n",
    "        'h' : 'high',\n",
    "        'l' : 'low',\n",
    "        'c' : 'close',\n",
    "        'v' : 'volume'\n",
    "    })\n",
    "    tckr_df['date'] = pd.to_datetime(tckr_df['date'], origin='unix', unit='s')\n",
    "    tckr_df.set_index(tckr_df['date'], inplace=True)\n",
    "    tckr_df = tckr_df.drop('date', 1)\n",
    "    tckr_df.to_csv(csv_path)"
   ]
  },
  {
   "source": [
    "# Data Prep\n",
    "Setting up the dataframes that I plan to work with"
   ],
   "cell_type": "markdown",
   "metadata": {}
  },
  {
   "source": [
    "## DJIA Data\n"
   ],
   "cell_type": "markdown",
   "metadata": {}
  },
  {
   "cell_type": "code",
   "execution_count": 38,
   "metadata": {},
   "outputs": [
    {
     "output_type": "execute_result",
     "data": {
      "text/plain": "                    Open          High           Low         Close  \\\nDate                                                                 \n2020-01-02  28638.970703  28872.800781  28627.769531  28868.800781   \n2020-01-03  28553.330078  28716.310547  28500.359375  28634.880859   \n2020-01-06  28465.500000  28708.019531  28418.630859  28703.380859   \n2020-01-07  28639.179688  28685.500000  28565.279297  28583.679688   \n2020-01-08  28556.140625  28866.179688  28522.509766  28745.089844   \n...                  ...           ...           ...           ...   \n2020-09-21  27484.710938  27484.710938  26715.150391  27147.699219   \n2020-09-22  27170.339844  27333.089844  26989.929688  27288.179688   \n2020-09-23  27413.599609  27464.460938  26716.119141  26763.130859   \n2020-09-24  26716.089844  27094.849609  26537.009766  26815.439453   \n2020-09-25  26694.509766  27239.289063  26635.380859  27173.960938   \n\n               Adj Close     Volume  \nDate                                 \n2020-01-02  28868.800781  251820000  \n2020-01-03  28634.880859  239590000  \n2020-01-06  28703.380859  252760000  \n2020-01-07  28583.679688  258900000  \n2020-01-08  28745.089844  291750000  \n...                  ...        ...  \n2020-09-21  27147.699219  523660000  \n2020-09-22  27288.179688  420720000  \n2020-09-23  26763.130859  459470000  \n2020-09-24  26815.439453  447810000  \n2020-09-25  27173.960938  388900000  \n\n[186 rows x 6 columns]",
      "text/html": "<div>\n<style scoped>\n    .dataframe tbody tr th:only-of-type {\n        vertical-align: middle;\n    }\n\n    .dataframe tbody tr th {\n        vertical-align: top;\n    }\n\n    .dataframe thead th {\n        text-align: right;\n    }\n</style>\n<table border=\"1\" class=\"dataframe\">\n  <thead>\n    <tr style=\"text-align: right;\">\n      <th></th>\n      <th>Open</th>\n      <th>High</th>\n      <th>Low</th>\n      <th>Close</th>\n      <th>Adj Close</th>\n      <th>Volume</th>\n    </tr>\n    <tr>\n      <th>Date</th>\n      <th></th>\n      <th></th>\n      <th></th>\n      <th></th>\n      <th></th>\n      <th></th>\n    </tr>\n  </thead>\n  <tbody>\n    <tr>\n      <th>2020-01-02</th>\n      <td>28638.970703</td>\n      <td>28872.800781</td>\n      <td>28627.769531</td>\n      <td>28868.800781</td>\n      <td>28868.800781</td>\n      <td>251820000</td>\n    </tr>\n    <tr>\n      <th>2020-01-03</th>\n      <td>28553.330078</td>\n      <td>28716.310547</td>\n      <td>28500.359375</td>\n      <td>28634.880859</td>\n      <td>28634.880859</td>\n      <td>239590000</td>\n    </tr>\n    <tr>\n      <th>2020-01-06</th>\n      <td>28465.500000</td>\n      <td>28708.019531</td>\n      <td>28418.630859</td>\n      <td>28703.380859</td>\n      <td>28703.380859</td>\n      <td>252760000</td>\n    </tr>\n    <tr>\n      <th>2020-01-07</th>\n      <td>28639.179688</td>\n      <td>28685.500000</td>\n      <td>28565.279297</td>\n      <td>28583.679688</td>\n      <td>28583.679688</td>\n      <td>258900000</td>\n    </tr>\n    <tr>\n      <th>2020-01-08</th>\n      <td>28556.140625</td>\n      <td>28866.179688</td>\n      <td>28522.509766</td>\n      <td>28745.089844</td>\n      <td>28745.089844</td>\n      <td>291750000</td>\n    </tr>\n    <tr>\n      <th>...</th>\n      <td>...</td>\n      <td>...</td>\n      <td>...</td>\n      <td>...</td>\n      <td>...</td>\n      <td>...</td>\n    </tr>\n    <tr>\n      <th>2020-09-21</th>\n      <td>27484.710938</td>\n      <td>27484.710938</td>\n      <td>26715.150391</td>\n      <td>27147.699219</td>\n      <td>27147.699219</td>\n      <td>523660000</td>\n    </tr>\n    <tr>\n      <th>2020-09-22</th>\n      <td>27170.339844</td>\n      <td>27333.089844</td>\n      <td>26989.929688</td>\n      <td>27288.179688</td>\n      <td>27288.179688</td>\n      <td>420720000</td>\n    </tr>\n    <tr>\n      <th>2020-09-23</th>\n      <td>27413.599609</td>\n      <td>27464.460938</td>\n      <td>26716.119141</td>\n      <td>26763.130859</td>\n      <td>26763.130859</td>\n      <td>459470000</td>\n    </tr>\n    <tr>\n      <th>2020-09-24</th>\n      <td>26716.089844</td>\n      <td>27094.849609</td>\n      <td>26537.009766</td>\n      <td>26815.439453</td>\n      <td>26815.439453</td>\n      <td>447810000</td>\n    </tr>\n    <tr>\n      <th>2020-09-25</th>\n      <td>26694.509766</td>\n      <td>27239.289063</td>\n      <td>26635.380859</td>\n      <td>27173.960938</td>\n      <td>27173.960938</td>\n      <td>388900000</td>\n    </tr>\n  </tbody>\n</table>\n<p>186 rows × 6 columns</p>\n</div>"
     },
     "metadata": {},
     "execution_count": 38
    }
   ],
   "source": [
    "djia_df = pd.read_csv(djia_path, index_col='Date')\n",
    "djia_df"
   ]
  },
  {
   "source": [
    "## Top 100 Data"
   ],
   "cell_type": "markdown",
   "metadata": {}
  },
  {
   "cell_type": "code",
   "execution_count": 136,
   "metadata": {},
   "outputs": [],
   "source": [
    "hundred_df = {}"
   ]
  },
  {
   "cell_type": "code",
   "execution_count": 142,
   "metadata": {},
   "outputs": [],
   "source": [
    "for key in top_100:\n",
    "    csv_path = Path(f\"./data/get_top_100/{top_100[key]}.csv\")\n",
    "    hundred_df[top_100[key]] = pd.read_csv(csv_path, index_col='date')"
   ]
  },
  {
   "cell_type": "code",
   "execution_count": 144,
   "metadata": {},
   "outputs": [
    {
     "output_type": "execute_result",
     "data": {
      "text/plain": "                       open    high       low     close     volume\ndate                                                              \n2019-09-27 04:00:00  220.54  220.96  217.2814  218.8500   22606388\n2019-09-30 04:00:00  220.90  224.58  220.7900  223.9800   22189704\n2019-10-01 04:00:00  225.07  228.22  224.2000  224.5800   32017308\n2019-10-02 04:00:00  223.06  223.35  217.9300  218.9600   31067943\n2019-10-03 04:00:00  218.43  220.96  215.1320  220.8100   25267290\n...                     ...     ...       ...       ...        ...\n2020-09-21 04:00:00  104.54  110.19  103.1000  110.1300  178442044\n2020-09-22 04:00:00  112.68  112.86  109.1600  111.8000  167185259\n2020-09-23 04:00:00  111.62  112.11  106.7700  107.2300  131794926\n2020-09-24 04:00:00  105.17  110.25  105.0000  108.2015  152123922\n2020-09-25 04:00:00  108.43  112.44  107.6700  112.2800  137542199\n\n[252 rows x 5 columns]",
      "text/html": "<div>\n<style scoped>\n    .dataframe tbody tr th:only-of-type {\n        vertical-align: middle;\n    }\n\n    .dataframe tbody tr th {\n        vertical-align: top;\n    }\n\n    .dataframe thead th {\n        text-align: right;\n    }\n</style>\n<table border=\"1\" class=\"dataframe\">\n  <thead>\n    <tr style=\"text-align: right;\">\n      <th></th>\n      <th>open</th>\n      <th>high</th>\n      <th>low</th>\n      <th>close</th>\n      <th>volume</th>\n    </tr>\n    <tr>\n      <th>date</th>\n      <th></th>\n      <th></th>\n      <th></th>\n      <th></th>\n      <th></th>\n    </tr>\n  </thead>\n  <tbody>\n    <tr>\n      <th>2019-09-27 04:00:00</th>\n      <td>220.54</td>\n      <td>220.96</td>\n      <td>217.2814</td>\n      <td>218.8500</td>\n      <td>22606388</td>\n    </tr>\n    <tr>\n      <th>2019-09-30 04:00:00</th>\n      <td>220.90</td>\n      <td>224.58</td>\n      <td>220.7900</td>\n      <td>223.9800</td>\n      <td>22189704</td>\n    </tr>\n    <tr>\n      <th>2019-10-01 04:00:00</th>\n      <td>225.07</td>\n      <td>228.22</td>\n      <td>224.2000</td>\n      <td>224.5800</td>\n      <td>32017308</td>\n    </tr>\n    <tr>\n      <th>2019-10-02 04:00:00</th>\n      <td>223.06</td>\n      <td>223.35</td>\n      <td>217.9300</td>\n      <td>218.9600</td>\n      <td>31067943</td>\n    </tr>\n    <tr>\n      <th>2019-10-03 04:00:00</th>\n      <td>218.43</td>\n      <td>220.96</td>\n      <td>215.1320</td>\n      <td>220.8100</td>\n      <td>25267290</td>\n    </tr>\n    <tr>\n      <th>...</th>\n      <td>...</td>\n      <td>...</td>\n      <td>...</td>\n      <td>...</td>\n      <td>...</td>\n    </tr>\n    <tr>\n      <th>2020-09-21 04:00:00</th>\n      <td>104.54</td>\n      <td>110.19</td>\n      <td>103.1000</td>\n      <td>110.1300</td>\n      <td>178442044</td>\n    </tr>\n    <tr>\n      <th>2020-09-22 04:00:00</th>\n      <td>112.68</td>\n      <td>112.86</td>\n      <td>109.1600</td>\n      <td>111.8000</td>\n      <td>167185259</td>\n    </tr>\n    <tr>\n      <th>2020-09-23 04:00:00</th>\n      <td>111.62</td>\n      <td>112.11</td>\n      <td>106.7700</td>\n      <td>107.2300</td>\n      <td>131794926</td>\n    </tr>\n    <tr>\n      <th>2020-09-24 04:00:00</th>\n      <td>105.17</td>\n      <td>110.25</td>\n      <td>105.0000</td>\n      <td>108.2015</td>\n      <td>152123922</td>\n    </tr>\n    <tr>\n      <th>2020-09-25 04:00:00</th>\n      <td>108.43</td>\n      <td>112.44</td>\n      <td>107.6700</td>\n      <td>112.2800</td>\n      <td>137542199</td>\n    </tr>\n  </tbody>\n</table>\n<p>252 rows × 5 columns</p>\n</div>"
     },
     "metadata": {},
     "execution_count": 144
    }
   ],
   "source": [
    "hundred_df['TSLA']"
   ]
  },
  {
   "cell_type": "code",
   "execution_count": null,
   "metadata": {},
   "outputs": [],
   "source": []
  }
 ]
}